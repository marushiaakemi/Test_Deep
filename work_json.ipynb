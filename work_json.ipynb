{
 "cells": [
  {
   "cell_type": "code",
   "execution_count": 1,
   "metadata": {},
   "outputs": [],
   "source": [
    "import pandas as pd\n",
    "import json"
   ]
  },
  {
   "cell_type": "code",
   "execution_count": 2,
   "metadata": {},
   "outputs": [],
   "source": [
    "file = pd.read_json('source_file_2.json')"
   ]
  },
  {
   "cell_type": "markdown",
   "metadata": {},
   "source": [
    "Tratando os managers"
   ]
  },
  {
   "cell_type": "code",
   "execution_count": 4,
   "metadata": {},
   "outputs": [],
   "source": [
    "#pegando todos os managers da coluna managers\n",
    "manager = []\n",
    "\n",
    "for index, row in file.iterrows():\n",
    "    for man in row['managers']:\n",
    "        manager.append(man)"
   ]
  },
  {
   "cell_type": "code",
   "execution_count": 5,
   "metadata": {},
   "outputs": [
    {
     "data": {
      "text/plain": [
       "['csaftoiu',\n",
       " 'merlin',\n",
       " 'luanda',\n",
       " 'morris',\n",
       " 'arturc',\n",
       " 'victor-mgr',\n",
       " 'ariel',\n",
       " 'victor']"
      ]
     },
     "execution_count": 5,
     "metadata": {},
     "output_type": "execute_result"
    }
   ],
   "source": [
    "#Removendo duplicadas\n",
    "from collections import OrderedDict\n",
    "manager = list(OrderedDict.fromkeys(manager))\n",
    "manager"
   ]
  },
  {
   "cell_type": "code",
   "execution_count": 14,
   "metadata": {},
   "outputs": [],
   "source": [
    "#função para pegar todos os nomes (coluna name) de cada manager e ordenar pelo priority\n",
    "def getName(manager):\n",
    "    dict_m = pd.DataFrame()\n",
    "    for index, row in file.iterrows():\n",
    "        if manager in row['managers']:\n",
    "            dict_m = dict_m.append({'Name':row['name'], 'Priority': row['priority']}, ignore_index=True)\n",
    "            dict_m = dict_m.sort_values(by=['Priority'])\n",
    "            \n",
    "    list_m = []\n",
    "    for indice, row in dict_m.iterrows():\n",
    "        list_m.append(row['Name'])\n",
    "    \n",
    "    return list_m"
   ]
  },
  {
   "cell_type": "code",
   "execution_count": 15,
   "metadata": {},
   "outputs": [],
   "source": [
    "#Chama a função para cada manager e cria o json.\n",
    "data_dict = []\n",
    "\n",
    "with open('managers.json', 'w') as write_file:\n",
    "    \n",
    "    for man_s in manager:\n",
    "        data = [\n",
    "            {\n",
    "                man_s : getName(man_s)\n",
    "            }\n",
    "        ]\n",
    "        data_dict = data_dict + data\n",
    "            \n",
    "    json.dump(data_dict, write_file, indent=3)"
   ]
  },
  {
   "cell_type": "markdown",
   "metadata": {},
   "source": [
    "Tratando os watchers"
   ]
  },
  {
   "cell_type": "code",
   "execution_count": 18,
   "metadata": {},
   "outputs": [],
   "source": [
    "watchers = []\n",
    "\n",
    "for index, row in file.iterrows():\n",
    "    for wat in row['watchers']:\n",
    "        watchers.append(wat)"
   ]
  },
  {
   "cell_type": "code",
   "execution_count": 19,
   "metadata": {},
   "outputs": [
    {
     "data": {
      "text/plain": [
       "['merlin',\n",
       " 'morris',\n",
       " 'csaftoiu',\n",
       " 'jpfarias',\n",
       " 'victor',\n",
       " 'arturc',\n",
       " 'victor-mgr',\n",
       " 'Alex']"
      ]
     },
     "execution_count": 19,
     "metadata": {},
     "output_type": "execute_result"
    }
   ],
   "source": [
    "from collections import OrderedDict\n",
    "watchers = list(OrderedDict.fromkeys(watchers))\n",
    "watchers"
   ]
  },
  {
   "cell_type": "code",
   "execution_count": 22,
   "metadata": {},
   "outputs": [],
   "source": [
    "def getNameW(watcher):\n",
    "    dict_w = pd.DataFrame()\n",
    "    for index, row in file.iterrows():\n",
    "        if watcher in row['watchers']:\n",
    "            dict_w = dict_w.append({'Name':row['name'], 'Priority': row['priority']}, ignore_index=True)\n",
    "            dict_w = dict_w.sort_values(by=['Priority'])\n",
    "            \n",
    "    list_w = []\n",
    "    for indice, row in dict_w.iterrows():\n",
    "        list_w.append(row['Name'])\n",
    "    \n",
    "    return list_w"
   ]
  },
  {
   "cell_type": "code",
   "execution_count": 24,
   "metadata": {},
   "outputs": [],
   "source": [
    "data_dict_w = []\n",
    "\n",
    "with open('watchers.json', 'w') as write_file_w:\n",
    "    \n",
    "    for wat_s in watchers:\n",
    "        data_w = [\n",
    "            {\n",
    "                wat_s : getNameW(wat_s)\n",
    "            }\n",
    "        ]\n",
    "        data_dict_w = data_dict_w + data_w\n",
    "            \n",
    "    json.dump(data_dict_w, write_file_w, indent=3)"
   ]
  }
 ],
 "metadata": {
  "kernelspec": {
   "display_name": "Python 3",
   "language": "python",
   "name": "python3"
  },
  "language_info": {
   "codemirror_mode": {
    "name": "ipython",
    "version": 3
   },
   "file_extension": ".py",
   "mimetype": "text/x-python",
   "name": "python",
   "nbconvert_exporter": "python",
   "pygments_lexer": "ipython3",
   "version": "3.7.4"
  }
 },
 "nbformat": 4,
 "nbformat_minor": 4
}
